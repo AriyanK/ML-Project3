{
 "cells": [
  {
   "cell_type": "code",
   "execution_count": 1,
   "id": "c000aec9",
   "metadata": {},
   "outputs": [],
   "source": [
    "import pandas as pd\n",
    "import numpy as np\n",
    "import seaborn as sns\n",
    "import matplotlib.pyplot as plt\n",
    "import matplotlib as mpl\n",
    "from pandas import DataFrame, Series\n",
    "\n",
    "path = '/Users/ary00/Documents/Project3/'\n",
    "\n",
    "trainData = pd.read_csv(path + 'WakeCountyHousing.csv')"
   ]
  },
  {
   "cell_type": "code",
   "execution_count": 2,
   "id": "96d05131",
   "metadata": {},
   "outputs": [
    {
     "data": {
      "text/html": [
       "<div>\n",
       "<style scoped>\n",
       "    .dataframe tbody tr th:only-of-type {\n",
       "        vertical-align: middle;\n",
       "    }\n",
       "\n",
       "    .dataframe tbody tr th {\n",
       "        vertical-align: top;\n",
       "    }\n",
       "\n",
       "    .dataframe thead th {\n",
       "        text-align: right;\n",
       "    }\n",
       "</style>\n",
       "<table border=\"1\" class=\"dataframe\">\n",
       "  <thead>\n",
       "    <tr style=\"text-align: right;\">\n",
       "      <th></th>\n",
       "      <th>Real_Estate_Id</th>\n",
       "      <th>Deeded_Acreage</th>\n",
       "      <th>Total_Sale_Price</th>\n",
       "      <th>Total_Sale_Date</th>\n",
       "      <th>Month_Year_of_Sale</th>\n",
       "      <th>Year_of_Sale</th>\n",
       "      <th>Year_Built</th>\n",
       "      <th>Year_Remodeled</th>\n",
       "      <th>Heated_Area</th>\n",
       "      <th>Num_Stories</th>\n",
       "      <th>Design_Style</th>\n",
       "      <th>Bath</th>\n",
       "      <th>Utilities</th>\n",
       "      <th>Physical_City</th>\n",
       "      <th>Physical_Zip</th>\n",
       "    </tr>\n",
       "  </thead>\n",
       "  <tbody>\n",
       "    <tr>\n",
       "      <th>0</th>\n",
       "      <td>19</td>\n",
       "      <td>0.21</td>\n",
       "      <td>34500</td>\n",
       "      <td>1/1/1974</td>\n",
       "      <td>January 1974</td>\n",
       "      <td>1974</td>\n",
       "      <td>1964</td>\n",
       "      <td>1964</td>\n",
       "      <td>1828</td>\n",
       "      <td>One Story</td>\n",
       "      <td>Split level</td>\n",
       "      <td>2 Bath</td>\n",
       "      <td>ALL</td>\n",
       "      <td>Raleigh</td>\n",
       "      <td>27610.0</td>\n",
       "    </tr>\n",
       "    <tr>\n",
       "      <th>1</th>\n",
       "      <td>20</td>\n",
       "      <td>0.46</td>\n",
       "      <td>35500</td>\n",
       "      <td>5/18/1983</td>\n",
       "      <td>May 1983</td>\n",
       "      <td>1983</td>\n",
       "      <td>1970</td>\n",
       "      <td>1970</td>\n",
       "      <td>1240</td>\n",
       "      <td>One Story</td>\n",
       "      <td>Conventional</td>\n",
       "      <td>1 Bath</td>\n",
       "      <td>E</td>\n",
       "      <td>Raleigh</td>\n",
       "      <td>27610.0</td>\n",
       "    </tr>\n",
       "    <tr>\n",
       "      <th>2</th>\n",
       "      <td>22</td>\n",
       "      <td>0.46</td>\n",
       "      <td>37500</td>\n",
       "      <td>9/16/2004</td>\n",
       "      <td>September 2004</td>\n",
       "      <td>2004</td>\n",
       "      <td>1900</td>\n",
       "      <td>1900</td>\n",
       "      <td>2261</td>\n",
       "      <td>One Story</td>\n",
       "      <td>Conventional</td>\n",
       "      <td>2 Bath</td>\n",
       "      <td>WSE</td>\n",
       "      <td>Wendell</td>\n",
       "      <td>27591.0</td>\n",
       "    </tr>\n",
       "    <tr>\n",
       "      <th>3</th>\n",
       "      <td>25</td>\n",
       "      <td>0.96</td>\n",
       "      <td>70000</td>\n",
       "      <td>1/1/1971</td>\n",
       "      <td>January 1971</td>\n",
       "      <td>1971</td>\n",
       "      <td>1971</td>\n",
       "      <td>1971</td>\n",
       "      <td>3770</td>\n",
       "      <td>One Story</td>\n",
       "      <td>Conventional</td>\n",
       "      <td>Other</td>\n",
       "      <td>WGE</td>\n",
       "      <td>Raleigh</td>\n",
       "      <td>27613.0</td>\n",
       "    </tr>\n",
       "    <tr>\n",
       "      <th>4</th>\n",
       "      <td>30</td>\n",
       "      <td>0.47</td>\n",
       "      <td>380000</td>\n",
       "      <td>8/12/2015</td>\n",
       "      <td>August 2015</td>\n",
       "      <td>2015</td>\n",
       "      <td>1946</td>\n",
       "      <td>2017</td>\n",
       "      <td>1789</td>\n",
       "      <td>One Story</td>\n",
       "      <td>Conventional</td>\n",
       "      <td>2 Bath</td>\n",
       "      <td>ALL</td>\n",
       "      <td>Raleigh</td>\n",
       "      <td>27607.0</td>\n",
       "    </tr>\n",
       "    <tr>\n",
       "      <th>...</th>\n",
       "      <td>...</td>\n",
       "      <td>...</td>\n",
       "      <td>...</td>\n",
       "      <td>...</td>\n",
       "      <td>...</td>\n",
       "      <td>...</td>\n",
       "      <td>...</td>\n",
       "      <td>...</td>\n",
       "      <td>...</td>\n",
       "      <td>...</td>\n",
       "      <td>...</td>\n",
       "      <td>...</td>\n",
       "      <td>...</td>\n",
       "      <td>...</td>\n",
       "      <td>...</td>\n",
       "    </tr>\n",
       "    <tr>\n",
       "      <th>308287</th>\n",
       "      <td>482492</td>\n",
       "      <td>0.19</td>\n",
       "      <td>440000</td>\n",
       "      <td>3/1/2021</td>\n",
       "      <td>March 2021</td>\n",
       "      <td>2021</td>\n",
       "      <td>2020</td>\n",
       "      <td>2020</td>\n",
       "      <td>2814</td>\n",
       "      <td>Other</td>\n",
       "      <td>Conventional</td>\n",
       "      <td>3 Bath</td>\n",
       "      <td>ALL</td>\n",
       "      <td>Holly Springs</td>\n",
       "      <td>27540.0</td>\n",
       "    </tr>\n",
       "    <tr>\n",
       "      <th>308288</th>\n",
       "      <td>482495</td>\n",
       "      <td>0.19</td>\n",
       "      <td>464000</td>\n",
       "      <td>3/17/2021</td>\n",
       "      <td>March 2021</td>\n",
       "      <td>2021</td>\n",
       "      <td>2020</td>\n",
       "      <td>2020</td>\n",
       "      <td>3129</td>\n",
       "      <td>One Story</td>\n",
       "      <td>Conventional</td>\n",
       "      <td>3½ Bath</td>\n",
       "      <td>ALL</td>\n",
       "      <td>Holly Springs</td>\n",
       "      <td>27540.0</td>\n",
       "    </tr>\n",
       "    <tr>\n",
       "      <th>308289</th>\n",
       "      <td>482496</td>\n",
       "      <td>0.19</td>\n",
       "      <td>431000</td>\n",
       "      <td>3/30/2021</td>\n",
       "      <td>March 2021</td>\n",
       "      <td>2021</td>\n",
       "      <td>2020</td>\n",
       "      <td>2020</td>\n",
       "      <td>2801</td>\n",
       "      <td>Other</td>\n",
       "      <td>Conventional</td>\n",
       "      <td>3 Bath</td>\n",
       "      <td>ALL</td>\n",
       "      <td>Holly Springs</td>\n",
       "      <td>27540.0</td>\n",
       "    </tr>\n",
       "    <tr>\n",
       "      <th>308290</th>\n",
       "      <td>483428</td>\n",
       "      <td>4.42</td>\n",
       "      <td>100000</td>\n",
       "      <td>3/8/2021</td>\n",
       "      <td>March 2021</td>\n",
       "      <td>2021</td>\n",
       "      <td>1901</td>\n",
       "      <td>1901</td>\n",
       "      <td>833</td>\n",
       "      <td>One Story</td>\n",
       "      <td>Conventional</td>\n",
       "      <td>1 Bath</td>\n",
       "      <td>E</td>\n",
       "      <td>Raleigh</td>\n",
       "      <td>27614.0</td>\n",
       "    </tr>\n",
       "    <tr>\n",
       "      <th>308291</th>\n",
       "      <td>484520</td>\n",
       "      <td>0.12</td>\n",
       "      <td>356000</td>\n",
       "      <td>6/22/2021</td>\n",
       "      <td>June 2021</td>\n",
       "      <td>2021</td>\n",
       "      <td>1986</td>\n",
       "      <td>1986</td>\n",
       "      <td>1274</td>\n",
       "      <td>One Story</td>\n",
       "      <td>Conventional</td>\n",
       "      <td>Other</td>\n",
       "      <td>ALL</td>\n",
       "      <td>Cary</td>\n",
       "      <td>27513.0</td>\n",
       "    </tr>\n",
       "  </tbody>\n",
       "</table>\n",
       "<p>308292 rows × 15 columns</p>\n",
       "</div>"
      ],
      "text/plain": [
       "        Real_Estate_Id  Deeded_Acreage  Total_Sale_Price Total_Sale_Date  \\\n",
       "0                   19            0.21             34500        1/1/1974   \n",
       "1                   20            0.46             35500       5/18/1983   \n",
       "2                   22            0.46             37500       9/16/2004   \n",
       "3                   25            0.96             70000        1/1/1971   \n",
       "4                   30            0.47            380000       8/12/2015   \n",
       "...                ...             ...               ...             ...   \n",
       "308287          482492            0.19            440000        3/1/2021   \n",
       "308288          482495            0.19            464000       3/17/2021   \n",
       "308289          482496            0.19            431000       3/30/2021   \n",
       "308290          483428            4.42            100000        3/8/2021   \n",
       "308291          484520            0.12            356000       6/22/2021   \n",
       "\n",
       "       Month_Year_of_Sale  Year_of_Sale  Year_Built  Year_Remodeled  \\\n",
       "0            January 1974          1974        1964            1964   \n",
       "1                May 1983          1983        1970            1970   \n",
       "2          September 2004          2004        1900            1900   \n",
       "3            January 1971          1971        1971            1971   \n",
       "4             August 2015          2015        1946            2017   \n",
       "...                   ...           ...         ...             ...   \n",
       "308287         March 2021          2021        2020            2020   \n",
       "308288         March 2021          2021        2020            2020   \n",
       "308289         March 2021          2021        2020            2020   \n",
       "308290         March 2021          2021        1901            1901   \n",
       "308291          June 2021          2021        1986            1986   \n",
       "\n",
       "        Heated_Area Num_Stories  Design_Style     Bath Utilities  \\\n",
       "0              1828   One Story   Split level   2 Bath       ALL   \n",
       "1              1240   One Story  Conventional   1 Bath         E   \n",
       "2              2261   One Story  Conventional   2 Bath       WSE   \n",
       "3              3770   One Story  Conventional    Other       WGE   \n",
       "4              1789   One Story  Conventional   2 Bath       ALL   \n",
       "...             ...         ...           ...      ...       ...   \n",
       "308287         2814       Other  Conventional   3 Bath       ALL   \n",
       "308288         3129   One Story  Conventional  3½ Bath       ALL   \n",
       "308289         2801       Other  Conventional   3 Bath       ALL   \n",
       "308290          833   One Story  Conventional   1 Bath         E   \n",
       "308291         1274   One Story  Conventional    Other       ALL   \n",
       "\n",
       "        Physical_City  Physical_Zip  \n",
       "0             Raleigh       27610.0  \n",
       "1             Raleigh       27610.0  \n",
       "2             Wendell       27591.0  \n",
       "3             Raleigh       27613.0  \n",
       "4             Raleigh       27607.0  \n",
       "...               ...           ...  \n",
       "308287  Holly Springs       27540.0  \n",
       "308288  Holly Springs       27540.0  \n",
       "308289  Holly Springs       27540.0  \n",
       "308290        Raleigh       27614.0  \n",
       "308291           Cary       27513.0  \n",
       "\n",
       "[308292 rows x 15 columns]"
      ]
     },
     "execution_count": 2,
     "metadata": {},
     "output_type": "execute_result"
    }
   ],
   "source": [
    "trainData"
   ]
  },
  {
   "cell_type": "markdown",
   "id": "bd3ebc10",
   "metadata": {},
   "source": [
    "### Cleaning the Data"
   ]
  },
  {
   "cell_type": "code",
   "execution_count": 3,
   "id": "47cb419e",
   "metadata": {},
   "outputs": [],
   "source": [
    "trainData = trainData.drop(\"Month_Year_of_Sale\", axis=1)\n",
    "trainData = trainData.drop(\"Total_Sale_Date\", axis=1)\n",
    "trainData = trainData.drop(\"Bath\", axis=1)\n",
    "trainData = trainData.drop(\"Physical_City\", axis=1)\n",
    "trainData = trainData.drop(\"Real_Estate_Id\", axis=1)\n",
    "trainData = trainData.dropna()"
   ]
  },
  {
   "cell_type": "code",
   "execution_count": 4,
   "id": "44353965",
   "metadata": {
    "scrolled": true
   },
   "outputs": [
    {
     "name": "stdout",
     "output_type": "stream",
     "text": [
      "<class 'pandas.core.frame.DataFrame'>\n",
      "Int64Index: 306178 entries, 0 to 308291\n",
      "Data columns (total 10 columns):\n",
      " #   Column            Non-Null Count   Dtype  \n",
      "---  ------            --------------   -----  \n",
      " 0   Deeded_Acreage    306178 non-null  float64\n",
      " 1   Total_Sale_Price  306178 non-null  int64  \n",
      " 2   Year_of_Sale      306178 non-null  int64  \n",
      " 3   Year_Built        306178 non-null  int64  \n",
      " 4   Year_Remodeled    306178 non-null  int64  \n",
      " 5   Heated_Area       306178 non-null  int64  \n",
      " 6   Num_Stories       306178 non-null  object \n",
      " 7   Design_Style      306178 non-null  object \n",
      " 8   Utilities         306178 non-null  object \n",
      " 9   Physical_Zip      306178 non-null  float64\n",
      "dtypes: float64(2), int64(5), object(3)\n",
      "memory usage: 25.7+ MB\n"
     ]
    }
   ],
   "source": [
    "trainData.info()"
   ]
  },
  {
   "cell_type": "code",
   "execution_count": 5,
   "id": "70e178b2",
   "metadata": {},
   "outputs": [],
   "source": [
    "from sklearn.model_selection import train_test_split\n",
    "\n",
    "train_set, test_set = train_test_split(trainData, test_size=0.2, random_state=42)"
   ]
  },
  {
   "cell_type": "code",
   "execution_count": 6,
   "id": "e3959ad5",
   "metadata": {
    "scrolled": true
   },
   "outputs": [
    {
     "data": {
      "text/plain": [
       "125071    298000\n",
       "139393    479000\n",
       "156111    120000\n",
       "239713    258500\n",
       "21521     110000\n",
       "           ...  \n",
       "120249    166000\n",
       "260948    470000\n",
       "132368    297000\n",
       "147395      6500\n",
       "122339    270000\n",
       "Name: Total_Sale_Price, Length: 244942, dtype: int64"
      ]
     },
     "execution_count": 6,
     "metadata": {},
     "output_type": "execute_result"
    }
   ],
   "source": [
    "train_set_copy = train_set.drop(\"Total_Sale_Price\", axis=1)\n",
    "train_set_copy_labels = train_set[\"Total_Sale_Price\"].copy()\n",
    "\n",
    "train_set_copy1 = train_set.drop(\"Num_Stories\", axis=1)\n",
    "train_set_copy_labels1 = train_set[\"Num_Stories\"].copy()\n",
    "\n",
    "train_set_copy_labels"
   ]
  },
  {
   "cell_type": "markdown",
   "id": "2986b9a2",
   "metadata": {},
   "source": [
    "### Scaling/Normalizing Features"
   ]
  },
  {
   "cell_type": "code",
   "execution_count": 7,
   "id": "f707a2c2",
   "metadata": {},
   "outputs": [],
   "source": [
    "from sklearn.preprocessing import StandardScaler\n",
    "from sklearn.pipeline import Pipeline\n",
    "\n",
    "num_pipeline = Pipeline([\n",
    "        ('std_scaler', StandardScaler())\n",
    "    ])\n"
   ]
  },
  {
   "cell_type": "markdown",
   "id": "95f988b2",
   "metadata": {},
   "source": [
    "### Custom Transformer using Ordinal Encoder"
   ]
  },
  {
   "cell_type": "code",
   "execution_count": 8,
   "id": "554f18ee",
   "metadata": {},
   "outputs": [],
   "source": [
    "from sklearn.compose import ColumnTransformer\n",
    "from sklearn.preprocessing import OneHotEncoder\n",
    "from sklearn.preprocessing import OrdinalEncoder\n",
    "\n",
    "cat_attribs1 = [\"Design_Style\", \"Utilities\"]\n",
    "num_attribs1 = [\"Deeded_Acreage\", \"Year_of_Sale\", \"Year_Built\", \"Year_Remodeled\", \"Heated_Area\", \"Physical_Zip\"]\n",
    "\n",
    "full_pipeline1 = ColumnTransformer([\n",
    "        (\"num\", num_pipeline, num_attribs1),\n",
    "        (\"cat\", OrdinalEncoder(), cat_attribs1),\n",
    "    ],\n",
    "    remainder='passthrough')\n",
    "\n",
    "train_set_copy_prepared1 = full_pipeline1.fit_transform(train_set_copy1)"
   ]
  },
  {
   "cell_type": "code",
   "execution_count": 9,
   "id": "852142ff",
   "metadata": {},
   "outputs": [],
   "source": [
    "from sklearn.compose import ColumnTransformer\n",
    "from sklearn.preprocessing import OneHotEncoder\n",
    "from sklearn.preprocessing import OrdinalEncoder\n",
    "\n",
    "cat_attribs = [\"Num_Stories\", \"Design_Style\", \"Utilities\"]\n",
    "num_attribs = [\"Deeded_Acreage\", \"Year_of_Sale\", \"Year_Built\", \"Year_Remodeled\", \"Heated_Area\", \"Physical_Zip\"]\n",
    "\n",
    "full_pipeline = ColumnTransformer([\n",
    "        (\"num\", num_pipeline, num_attribs),\n",
    "        (\"cat\", OrdinalEncoder(), cat_attribs),\n",
    "    ],\n",
    "    remainder='passthrough')\n",
    "\n",
    "train_set_copy_prepared = full_pipeline.fit_transform(train_set_copy)"
   ]
  },
  {
   "cell_type": "code",
   "execution_count": 10,
   "id": "9c69147f",
   "metadata": {},
   "outputs": [
    {
     "data": {
      "text/html": [
       "<div>\n",
       "<style scoped>\n",
       "    .dataframe tbody tr th:only-of-type {\n",
       "        vertical-align: middle;\n",
       "    }\n",
       "\n",
       "    .dataframe tbody tr th {\n",
       "        vertical-align: top;\n",
       "    }\n",
       "\n",
       "    .dataframe thead th {\n",
       "        text-align: right;\n",
       "    }\n",
       "</style>\n",
       "<table border=\"1\" class=\"dataframe\">\n",
       "  <thead>\n",
       "    <tr style=\"text-align: right;\">\n",
       "      <th></th>\n",
       "      <th>0</th>\n",
       "      <th>1</th>\n",
       "      <th>2</th>\n",
       "      <th>3</th>\n",
       "      <th>4</th>\n",
       "      <th>5</th>\n",
       "      <th>6</th>\n",
       "      <th>7</th>\n",
       "      <th>8</th>\n",
       "    </tr>\n",
       "  </thead>\n",
       "  <tbody>\n",
       "    <tr>\n",
       "      <th>0</th>\n",
       "      <td>-0.125698</td>\n",
       "      <td>0.706407</td>\n",
       "      <td>0.053775</td>\n",
       "      <td>0.012462</td>\n",
       "      <td>-0.246969</td>\n",
       "      <td>0.973243</td>\n",
       "      <td>1.0</td>\n",
       "      <td>4.0</td>\n",
       "      <td>0.0</td>\n",
       "    </tr>\n",
       "    <tr>\n",
       "      <th>1</th>\n",
       "      <td>0.282261</td>\n",
       "      <td>0.611530</td>\n",
       "      <td>0.205577</td>\n",
       "      <td>0.166974</td>\n",
       "      <td>1.394579</td>\n",
       "      <td>0.973243</td>\n",
       "      <td>2.0</td>\n",
       "      <td>4.0</td>\n",
       "      <td>0.0</td>\n",
       "    </tr>\n",
       "    <tr>\n",
       "      <th>2</th>\n",
       "      <td>-0.227688</td>\n",
       "      <td>0.991039</td>\n",
       "      <td>-0.604038</td>\n",
       "      <td>-0.657089</td>\n",
       "      <td>-1.259626</td>\n",
       "      <td>0.758027</td>\n",
       "      <td>0.0</td>\n",
       "      <td>2.0</td>\n",
       "      <td>0.0</td>\n",
       "    </tr>\n",
       "    <tr>\n",
       "      <th>3</th>\n",
       "      <td>-0.202191</td>\n",
       "      <td>0.326898</td>\n",
       "      <td>0.610385</td>\n",
       "      <td>0.579006</td>\n",
       "      <td>0.001172</td>\n",
       "      <td>-1.418048</td>\n",
       "      <td>1.0</td>\n",
       "      <td>13.0</td>\n",
       "      <td>0.0</td>\n",
       "    </tr>\n",
       "    <tr>\n",
       "      <th>4</th>\n",
       "      <td>-0.095101</td>\n",
       "      <td>-1.380892</td>\n",
       "      <td>-1.464255</td>\n",
       "      <td>-1.532657</td>\n",
       "      <td>-0.839695</td>\n",
       "      <td>0.877591</td>\n",
       "      <td>0.0</td>\n",
       "      <td>4.0</td>\n",
       "      <td>0.0</td>\n",
       "    </tr>\n",
       "    <tr>\n",
       "      <th>...</th>\n",
       "      <td>...</td>\n",
       "      <td>...</td>\n",
       "      <td>...</td>\n",
       "      <td>...</td>\n",
       "      <td>...</td>\n",
       "      <td>...</td>\n",
       "      <td>...</td>\n",
       "      <td>...</td>\n",
       "      <td>...</td>\n",
       "    </tr>\n",
       "    <tr>\n",
       "      <th>244937</th>\n",
       "      <td>-0.120599</td>\n",
       "      <td>-0.811629</td>\n",
       "      <td>0.003174</td>\n",
       "      <td>-0.039042</td>\n",
       "      <td>-0.148517</td>\n",
       "      <td>-1.035442</td>\n",
       "      <td>1.0</td>\n",
       "      <td>4.0</td>\n",
       "      <td>0.0</td>\n",
       "    </tr>\n",
       "    <tr>\n",
       "      <th>244938</th>\n",
       "      <td>-0.095101</td>\n",
       "      <td>0.896161</td>\n",
       "      <td>0.812789</td>\n",
       "      <td>0.785022</td>\n",
       "      <td>1.400606</td>\n",
       "      <td>-0.796312</td>\n",
       "      <td>1.0</td>\n",
       "      <td>4.0</td>\n",
       "      <td>0.0</td>\n",
       "    </tr>\n",
       "    <tr>\n",
       "      <th>244939</th>\n",
       "      <td>-0.069604</td>\n",
       "      <td>-1.286015</td>\n",
       "      <td>0.003174</td>\n",
       "      <td>-0.039042</td>\n",
       "      <td>0.757650</td>\n",
       "      <td>-1.418048</td>\n",
       "      <td>1.0</td>\n",
       "      <td>4.0</td>\n",
       "      <td>0.0</td>\n",
       "    </tr>\n",
       "    <tr>\n",
       "      <th>244940</th>\n",
       "      <td>-0.202191</td>\n",
       "      <td>0.137144</td>\n",
       "      <td>0.154976</td>\n",
       "      <td>0.115470</td>\n",
       "      <td>-0.826635</td>\n",
       "      <td>0.758027</td>\n",
       "      <td>1.0</td>\n",
       "      <td>13.0</td>\n",
       "      <td>0.0</td>\n",
       "    </tr>\n",
       "    <tr>\n",
       "      <th>244941</th>\n",
       "      <td>0.241465</td>\n",
       "      <td>-0.621874</td>\n",
       "      <td>0.003174</td>\n",
       "      <td>-0.039042</td>\n",
       "      <td>0.239266</td>\n",
       "      <td>0.805853</td>\n",
       "      <td>1.0</td>\n",
       "      <td>4.0</td>\n",
       "      <td>9.0</td>\n",
       "    </tr>\n",
       "  </tbody>\n",
       "</table>\n",
       "<p>244942 rows × 9 columns</p>\n",
       "</div>"
      ],
      "text/plain": [
       "               0         1         2         3         4         5    6     7  \\\n",
       "0      -0.125698  0.706407  0.053775  0.012462 -0.246969  0.973243  1.0   4.0   \n",
       "1       0.282261  0.611530  0.205577  0.166974  1.394579  0.973243  2.0   4.0   \n",
       "2      -0.227688  0.991039 -0.604038 -0.657089 -1.259626  0.758027  0.0   2.0   \n",
       "3      -0.202191  0.326898  0.610385  0.579006  0.001172 -1.418048  1.0  13.0   \n",
       "4      -0.095101 -1.380892 -1.464255 -1.532657 -0.839695  0.877591  0.0   4.0   \n",
       "...          ...       ...       ...       ...       ...       ...  ...   ...   \n",
       "244937 -0.120599 -0.811629  0.003174 -0.039042 -0.148517 -1.035442  1.0   4.0   \n",
       "244938 -0.095101  0.896161  0.812789  0.785022  1.400606 -0.796312  1.0   4.0   \n",
       "244939 -0.069604 -1.286015  0.003174 -0.039042  0.757650 -1.418048  1.0   4.0   \n",
       "244940 -0.202191  0.137144  0.154976  0.115470 -0.826635  0.758027  1.0  13.0   \n",
       "244941  0.241465 -0.621874  0.003174 -0.039042  0.239266  0.805853  1.0   4.0   \n",
       "\n",
       "          8  \n",
       "0       0.0  \n",
       "1       0.0  \n",
       "2       0.0  \n",
       "3       0.0  \n",
       "4       0.0  \n",
       "...     ...  \n",
       "244937  0.0  \n",
       "244938  0.0  \n",
       "244939  0.0  \n",
       "244940  0.0  \n",
       "244941  9.0  \n",
       "\n",
       "[244942 rows x 9 columns]"
      ]
     },
     "execution_count": 10,
     "metadata": {},
     "output_type": "execute_result"
    }
   ],
   "source": [
    "train_set_copy_prepared\n",
    "newest_df = pd.DataFrame(train_set_copy_prepared)\n",
    "newest_df"
   ]
  },
  {
   "cell_type": "markdown",
   "id": "a9d54989",
   "metadata": {},
   "source": [
    "### Decision Tree Regressor & Mean Squared Error"
   ]
  },
  {
   "cell_type": "code",
   "execution_count": 11,
   "id": "9da8b8ed",
   "metadata": {},
   "outputs": [
    {
     "data": {
      "text/plain": [
       "3262.6559335800644"
      ]
     },
     "execution_count": 11,
     "metadata": {},
     "output_type": "execute_result"
    }
   ],
   "source": [
    "from sklearn.tree import DecisionTreeRegressor\n",
    "from sklearn.metrics import mean_squared_error\n",
    "\n",
    "\n",
    "tree_reg = DecisionTreeRegressor()\n",
    "tree_reg.fit(train_set_copy_prepared, train_set_copy_labels)\n",
    "\n",
    "train_set_copy_predictions = tree_reg.predict(train_set_copy_prepared)\n",
    "tree_mse = mean_squared_error(train_set_copy_labels, train_set_copy_predictions)\n",
    "tree_rmse = np.sqrt(tree_mse)\n",
    "tree_rmse\n"
   ]
  },
  {
   "cell_type": "markdown",
   "id": "f2473252",
   "metadata": {},
   "source": [
    "### K-fold Cross Validation"
   ]
  },
  {
   "cell_type": "code",
   "execution_count": 12,
   "id": "91a35e5c",
   "metadata": {},
   "outputs": [],
   "source": [
    "from sklearn.model_selection import cross_val_score\n",
    "scores = cross_val_score(tree_reg, train_set_copy_prepared, train_set_copy_labels,\n",
    "                         scoring=\"neg_mean_squared_error\", cv=10)\n",
    "tree_rmse_scores = np.sqrt(-scores)"
   ]
  },
  {
   "cell_type": "code",
   "execution_count": 13,
   "id": "177083b5",
   "metadata": {},
   "outputs": [
    {
     "name": "stdout",
     "output_type": "stream",
     "text": [
      "Scores: [108516.42063946 104748.24123042 110344.20040723 100129.5641706\n",
      " 107167.23621918 108234.02994486 105400.89965511 100712.15565578\n",
      " 100313.65054392 108880.35848613]\n",
      "Mean: 105444.67569526963\n",
      "Standard deviation: 3653.137013391719\n"
     ]
    }
   ],
   "source": [
    "def display_scores(scores):\n",
    "...     print(\"Scores:\", scores)\n",
    "...     print(\"Mean:\", scores.mean())\n",
    "...     print(\"Standard deviation:\", scores.std())\n",
    "...\n",
    ">>> display_scores(tree_rmse_scores)\n"
   ]
  },
  {
   "cell_type": "markdown",
   "id": "3668e82f",
   "metadata": {},
   "source": [
    "### Random Forest Classifier"
   ]
  },
  {
   "cell_type": "code",
   "execution_count": 14,
   "id": "eecc0eed",
   "metadata": {},
   "outputs": [
    {
     "data": {
      "text/plain": [
       "27648.837121650235"
      ]
     },
     "execution_count": 14,
     "metadata": {},
     "output_type": "execute_result"
    }
   ],
   "source": [
    "from sklearn.ensemble import RandomForestRegressor\n",
    "forest_reg = RandomForestRegressor(n_estimators=100, random_state=42)\n",
    "forest_reg.fit(train_set_copy_prepared, train_set_copy_labels)\n",
    "\n",
    "price_predictions = forest_reg.predict(train_set_copy_prepared)\n",
    "forest_mse = mean_squared_error(train_set_copy_labels, price_predictions)\n",
    "forest_rmse = np.sqrt(forest_mse)\n",
    "forest_rmse"
   ]
  },
  {
   "cell_type": "markdown",
   "id": "cfdc23d6",
   "metadata": {},
   "source": [
    "### SGDClassifier & Accuracy Score Evaluation"
   ]
  },
  {
   "cell_type": "code",
   "execution_count": 15,
   "id": "924c6809",
   "metadata": {
    "scrolled": true
   },
   "outputs": [
    {
     "name": "stdout",
     "output_type": "stream",
     "text": [
      "Accuracy of SGD Classifier: 0.50\n"
     ]
    },
    {
     "data": {
      "text/plain": [
       "array(['Other', 'Other', 'Other', 'Other', 'Other', 'Other', 'Other',\n",
       "       'Other', 'Other', 'Other', 'Other', 'Other', 'Other', 'Other',\n",
       "       'Other', 'Other', 'Other', 'Other', 'Other', 'Other', 'Other',\n",
       "       'Other', 'Other', 'Other', 'Other', 'Other', 'Other', 'Other',\n",
       "       'Other', 'Other', 'Other', 'Other', 'Other', 'Other', 'Other',\n",
       "       'Other', 'Other', 'Other', 'Other', 'Other', 'Other', 'Other',\n",
       "       'Other', 'Other', 'Other', 'Other', 'Other', 'Other', 'Other',\n",
       "       'Other'], dtype='<U9')"
      ]
     },
     "execution_count": 15,
     "metadata": {},
     "output_type": "execute_result"
    }
   ],
   "source": [
    "from sklearn.linear_model import SGDClassifier\n",
    "from sklearn.model_selection import train_test_split\n",
    "from sklearn.metrics import accuracy_score\n",
    "from sklearn.multiclass import OneVsRestClassifier\n",
    "from sklearn.multiclass import OneVsOneClassifier\n",
    "from sklearn.linear_model import LogisticRegression\n",
    "from sklearn.svm import SVC\n",
    "\n",
    "some_data = train_set_copy_prepared1[:50]\n",
    "some_labels = train_set_copy_labels1[:50]\n",
    "\n",
    "some_data1 = train_set_copy_prepared1[50:]\n",
    "some_labels1 = train_set_copy_labels1[50:]\n",
    "\n",
    "clf = SGDClassifier(loss=\"log\", penalty=\"l2\", max_iter=1000)\n",
    "clf.fit(some_data1, some_labels1)\n",
    "y_pred = clf.predict(some_data)\n",
    "print('Accuracy of SGD Classifier: {:.2f}'.format(accuracy_score(some_labels, y_pred)))\n",
    "y_pred"
   ]
  },
  {
   "cell_type": "markdown",
   "id": "51c8203e",
   "metadata": {},
   "source": [
    "### One vs Rest Classifier"
   ]
  },
  {
   "cell_type": "code",
   "execution_count": 16,
   "id": "c8e89f10",
   "metadata": {},
   "outputs": [
    {
     "name": "stdout",
     "output_type": "stream",
     "text": [
      "Accuracy of OvR Classifier: 0.50\n"
     ]
    },
    {
     "data": {
      "text/plain": [
       "array(['Other', 'Other', 'Other', 'Other', 'Other', 'Other', 'Other',\n",
       "       'Other', 'Other', 'Other', 'Other', 'Other', 'Other', 'Other',\n",
       "       'Other', 'Other', 'Other', 'Other', 'Other', 'Other', 'Other',\n",
       "       'Other', 'Other', 'Other', 'Other', 'Other', 'Other', 'Other',\n",
       "       'Other', 'Other', 'Other', 'Other', 'Other', 'Other', 'Other',\n",
       "       'Other', 'Other', 'Other', 'Other', 'Other', 'Other', 'Other',\n",
       "       'Other', 'Other', 'Other', 'Other', 'Other', 'Other', 'Other',\n",
       "       'Other'], dtype='<U9')"
      ]
     },
     "execution_count": 16,
     "metadata": {},
     "output_type": "execute_result"
    }
   ],
   "source": [
    "some_data = train_set_copy_prepared1[:50]\n",
    "some_labels = train_set_copy_labels1[:50]\n",
    "\n",
    "some_data1 = train_set_copy_prepared1[50:]\n",
    "some_labels1 = train_set_copy_labels1[50:]\n",
    "\n",
    "OvR_clf = OneVsRestClassifier(LogisticRegression())\n",
    "OvR_clf.fit(some_data1, some_labels1)\n",
    "\n",
    "y_pred = OvR_clf.predict(some_data)\n",
    "\n",
    "print('Accuracy of OvR Classifier: {:.2f}'.format(accuracy_score(some_labels, y_pred)))\n",
    "y_pred"
   ]
  },
  {
   "cell_type": "markdown",
   "id": "8c1c7365",
   "metadata": {},
   "source": [
    "### One vs One Classifier"
   ]
  },
  {
   "cell_type": "code",
   "execution_count": 17,
   "id": "85bd59b2",
   "metadata": {},
   "outputs": [
    {
     "name": "stdout",
     "output_type": "stream",
     "text": [
      "Accuracy of OvO Classifier: 0.50\n"
     ]
    },
    {
     "data": {
      "text/plain": [
       "array(['Other', 'Other', 'Other', 'Other', 'Other', 'Other', 'Other',\n",
       "       'Other', 'Other', 'Other', 'Other', 'Other', 'Other', 'Other',\n",
       "       'Other', 'Other', 'Other', 'Other', 'Other', 'Other', 'Other',\n",
       "       'Other', 'Other', 'Other', 'Other', 'Other', 'Other', 'Other',\n",
       "       'Other', 'Other', 'Other', 'Other', 'Other', 'Other', 'Other',\n",
       "       'Other', 'Other', 'Other', 'Other', 'Other', 'Other', 'Other',\n",
       "       'Other', 'Other', 'Other', 'Other', 'Other', 'Other', 'Other',\n",
       "       'Other'], dtype=object)"
      ]
     },
     "execution_count": 17,
     "metadata": {},
     "output_type": "execute_result"
    }
   ],
   "source": [
    "some_data = train_set_copy_prepared1[:50]\n",
    "some_labels = train_set_copy_labels1[:50]\n",
    "\n",
    "some_data1 = train_set_copy_prepared1[50:]\n",
    "some_labels1 = train_set_copy_labels1[50:]\n",
    "\n",
    "OvO_clf = OneVsOneClassifier(LogisticRegression())\n",
    "OvO_clf.fit(some_data1, some_labels1)\n",
    "\n",
    "y_pred = OvO_clf.predict(some_data)\n",
    "\n",
    "print('Accuracy of OvO Classifier: {:.2f}'.format(accuracy_score(some_labels, y_pred)))\n",
    "y_pred"
   ]
  },
  {
   "cell_type": "markdown",
   "id": "29ad95ab",
   "metadata": {},
   "source": [
    "### K-Neighbors Classifier & Evaluating on Test Data"
   ]
  },
  {
   "cell_type": "code",
   "execution_count": 18,
   "id": "10d6a411",
   "metadata": {},
   "outputs": [
    {
     "name": "stdout",
     "output_type": "stream",
     "text": [
      "Accuracy of KNeighbors Classifier: 0.72\n"
     ]
    },
    {
     "data": {
      "text/plain": [
       "array(['Other', 'Other', 'One Story', 'Other', 'One Story', 'Other',\n",
       "       'Other', 'One Story', 'Other', 'Other', 'Other', 'Other', 'Other',\n",
       "       'One Story', 'Other', 'One Story', 'Other', 'Other', 'Other',\n",
       "       'Other', 'Other', 'Other', 'Other', 'Other', 'Other', 'Other',\n",
       "       'One Story', 'Other', 'Other', 'Other', 'Other', 'Other', 'Other',\n",
       "       'Other', 'Other', 'One Story', 'One Story', 'Other', 'One Story',\n",
       "       'One Story', 'One Story', 'One Story', 'Other', 'Other', 'Other',\n",
       "       'Other', 'Other', 'Other', 'One Story', 'Other'], dtype=object)"
      ]
     },
     "execution_count": 18,
     "metadata": {},
     "output_type": "execute_result"
    }
   ],
   "source": [
    "from sklearn.neighbors import KNeighborsClassifier\n",
    "\n",
    "some_data = train_set_copy_prepared1[:50]\n",
    "some_labels = train_set_copy_labels1[:50]\n",
    "\n",
    "some_data1 = train_set_copy_prepared1[50:]\n",
    "some_labels1 = train_set_copy_labels1[50:]\n",
    "\n",
    "classifier = KNeighborsClassifier(n_neighbors=19)\n",
    "classifier.fit(some_data1, some_labels1)\n",
    "y_pred = classifier.predict(some_data)\n",
    "\n",
    "print('Accuracy of KNeighbors Classifier: {:.2f}'.format(accuracy_score(some_labels, y_pred)))\n",
    "y_pred"
   ]
  },
  {
   "cell_type": "markdown",
   "id": "285bd6d2",
   "metadata": {},
   "source": [
    "### Confusion Matrix"
   ]
  },
  {
   "cell_type": "code",
   "execution_count": 19,
   "id": "d0c73afb",
   "metadata": {},
   "outputs": [
    {
     "data": {
      "text/plain": [
       "array([[12,  9,  0],\n",
       "       [ 1, 24,  0],\n",
       "       [ 0,  4,  0]], dtype=int64)"
      ]
     },
     "execution_count": 19,
     "metadata": {},
     "output_type": "execute_result"
    }
   ],
   "source": [
    "from sklearn.metrics import confusion_matrix\n",
    "\n",
    "confusion_matrix(some_labels, y_pred)"
   ]
  },
  {
   "cell_type": "markdown",
   "id": "cc1e4cb5",
   "metadata": {},
   "source": [
    "### Grid Search CV"
   ]
  },
  {
   "cell_type": "code",
   "execution_count": 20,
   "id": "109c38fd",
   "metadata": {},
   "outputs": [
    {
     "data": {
      "text/plain": [
       "{'max_features': 4, 'n_estimators': 30}"
      ]
     },
     "execution_count": 20,
     "metadata": {},
     "output_type": "execute_result"
    }
   ],
   "source": [
    "from sklearn.model_selection import GridSearchCV\n",
    "\n",
    "param_grid = [\n",
    "    {'n_estimators': [3, 10, 30], 'max_features': [2, 4, 6, 8]},\n",
    "    {'bootstrap': [False], 'n_estimators': [3, 10], 'max_features': [2, 3, 4]},\n",
    "  ]\n",
    "\n",
    "forest_reg = RandomForestRegressor()\n",
    "\n",
    "grid_search = GridSearchCV(forest_reg, param_grid, cv=5,\n",
    "                           scoring='neg_mean_squared_error',\n",
    "                           return_train_score=True)\n",
    "\n",
    "grid_search.fit(train_set_copy_prepared, train_set_copy_labels)\n",
    "\n",
    "grid_search.best_params_\n"
   ]
  },
  {
   "cell_type": "code",
   "execution_count": 21,
   "id": "d9cf2ed4",
   "metadata": {},
   "outputs": [
    {
     "data": {
      "text/plain": [
       "6000.264733388719"
      ]
     },
     "execution_count": 21,
     "metadata": {},
     "output_type": "execute_result"
    }
   ],
   "source": [
    "final_model = grid_search.best_estimator_\n",
    "\n",
    "some_data = train_set_copy_prepared[:5]\n",
    "some_labels = train_set_copy_labels[:5]\n",
    "\n",
    "final_predictions = final_model.predict(some_data)\n",
    "\n",
    "final_mse = mean_squared_error(some_labels, final_predictions)\n",
    "final_rmse = np.sqrt(final_mse)\n",
    "final_rmse"
   ]
  },
  {
   "cell_type": "markdown",
   "id": "e27aadfc",
   "metadata": {},
   "source": [
    "### Stratified K-fold Cross Validation"
   ]
  },
  {
   "cell_type": "code",
   "execution_count": 34,
   "id": "66124474",
   "metadata": {
    "scrolled": false
   },
   "outputs": [
    {
     "name": "stderr",
     "output_type": "stream",
     "text": [
      "C:\\Users\\ary00\\anaconda3\\lib\\site-packages\\sklearn\\model_selection\\_split.py:666: UserWarning: The least populated class in y has only 1 members, which is less than n_splits=2.\n",
      "  warnings.warn((\"The least populated class in y has only %d\"\n"
     ]
    },
    {
     "name": "stdout",
     "output_type": "stream",
     "text": [
      "List of possible accuracy: [0.01704076883507116, 0.016918290860693554]\n",
      "\n",
      "Maximum Accuracy That can be obtained from this model is: 1.7040768835071158 %\n",
      "\n",
      "Minimum Accuracy: 1.6918290860693554 %\n",
      "\n",
      "Overall Accuracy: 1.6979529847882355 %\n",
      "\n",
      "Standard Deviation is: 8.66050062283972e-05\n"
     ]
    }
   ],
   "source": [
    "from statistics import mean, stdev\n",
    "from sklearn import preprocessing\n",
    "from sklearn.model_selection import StratifiedKFold\n",
    "from sklearn import linear_model\n",
    "from sklearn import datasets\n",
    "\n",
    "skf = StratifiedKFold(n_splits=2, shuffle=True, random_state=42)\n",
    "lst_accu_stratified = []\n",
    "\n",
    "train_set_copy_prepared=pd.DataFrame(train_set_copy_prepared)\n",
    "\n",
    "for train_index, test_index in skf.split(train_set_copy_prepared, train_set_copy_labels):\n",
    "    x_train_fold, x_test_fold = train_set_copy_prepared.iloc[train_index], train_set_copy_prepared.iloc[test_index]\n",
    "    y_train_fold, y_test_fold = train_set_copy_labels.iloc[train_index], train_set_copy_labels.iloc[test_index]\n",
    "    classifier.fit(x_train_fold, y_train_fold)\n",
    "    lst_accu_stratified.append(classifier.score(x_test_fold, y_test_fold))\n",
    "\n",
    "print('List of possible accuracy:', lst_accu_stratified)\n",
    "print('\\nMaximum Accuracy That can be obtained from this model is:',\n",
    "      max(lst_accu_stratified)*100, '%')\n",
    "print('\\nMinimum Accuracy:',\n",
    "      min(lst_accu_stratified)*100, '%')\n",
    "print('\\nOverall Accuracy:',\n",
    "      mean(lst_accu_stratified)*100, '%')\n",
    "print('\\nStandard Deviation is:', stdev(lst_accu_stratified))\n"
   ]
  },
  {
   "cell_type": "markdown",
   "id": "bc3b286b",
   "metadata": {},
   "source": [
    "### ROC Curve"
   ]
  },
  {
   "cell_type": "code",
   "execution_count": 54,
   "id": "b036dce3",
   "metadata": {},
   "outputs": [
    {
     "data": {
      "image/png": "[encoded data removed]",
      "text/plain": [
       "<Figure size 432x288 with 1 Axes>"
      ]
     },
     "metadata": {
      "needs_background": "light"
     },
     "output_type": "display_data"
    }
   ],
   "source": [
    "from sklearn import metrics\n",
    "\n",
    "x_test = train_set_copy_prepared1[:50]\n",
    "y_test = train_set_copy_labels1[:50]\n",
    "    \n",
    "x_train = train_set_copy_prepared1[50:]\n",
    "y_train = train_set_copy_labels1[50:]\n",
    "\n",
    "classifier = KNeighborsClassifier(n_neighbors=19)\n",
    "classifier.fit(x_train, y_train)\n",
    "\n",
    "y_pred_proba = classifier.predict_proba(x_test)[::,1]\n",
    "fpr, tpr, _ = metrics.roc_curve(y_test,  y_pred_proba, pos_label='Other')\n",
    "\n",
    "#create ROC curve\n",
    "plt.plot(fpr,tpr)\n",
    "plt.ylabel('True Positive Rate')\n",
    "plt.xlabel('False Positive Rate')\n",
    "plt.show()"
   ]
  },
  {
   "cell_type": "markdown",
   "id": "f24d52bf",
   "metadata": {},
   "source": [
    "### Bootstrap Aggregating (Ensemble Method)"
   ]
  },
  {
   "cell_type": "code",
   "execution_count": 57,
   "id": "fa90d202",
   "metadata": {},
   "outputs": [
    {
     "name": "stdout",
     "output_type": "stream",
     "text": [
      "Accuracy of KNeighbors Classifier: 0.72\n"
     ]
    },
    {
     "data": {
      "text/plain": [
       "array(['Other', 'Other', 'One Story', 'Other', 'One Story', 'Other',\n",
       "       'Other', 'One Story', 'One Story', 'Other', 'Other', 'Other',\n",
       "       'Other', 'One Story', 'Other', 'One Story', 'Other', 'Other',\n",
       "       'Other', 'Other', 'Other', 'Other', 'Other', 'Other', 'Other',\n",
       "       'Other', 'One Story', 'Other', 'Other', 'Other', 'Other', 'Other',\n",
       "       'Other', 'Other', 'Other', 'One Story', 'One Story', 'Other',\n",
       "       'One Story', 'One Story', 'Other', 'One Story', 'Other', 'Other',\n",
       "       'Other', 'Other', 'Other', 'Other', 'One Story', 'Other'],\n",
       "      dtype=object)"
      ]
     },
     "execution_count": 57,
     "metadata": {},
     "output_type": "execute_result"
    }
   ],
   "source": [
    "from sklearn.ensemble import BaggingClassifier\n",
    "from sklearn.neighbors import KNeighborsClassifier\n",
    "bagging = BaggingClassifier(KNeighborsClassifier(), max_samples=0.5, max_features=0.5)\n",
    "\n",
    "bagging.fit(x_train, y_train)\n",
    "\n",
    "y_pred = bagging.predict(x_test)\n",
    "print('Accuracy of Bagging Classifier: {:.2f}'.format(accuracy_score(y_test, y_pred)))\n",
    "y_pred"
   ]
  },
  {
   "cell_type": "markdown",
   "id": "7589c230",
   "metadata": {},
   "source": [
    "### Gradient Boosting Classifier (Ensemble Method)"
   ]
  },
  {
   "cell_type": "code",
   "execution_count": 61,
   "id": "cc504313",
   "metadata": {},
   "outputs": [
    {
     "name": "stdout",
     "output_type": "stream",
     "text": [
      "Accuracy of Gradient Boosting Classifier: 0.78\n"
     ]
    }
   ],
   "source": [
    "from sklearn.ensemble import GradientBoostingClassifier\n",
    "\n",
    "clf = GradientBoostingClassifier(n_estimators=100, learning_rate=1.0,\n",
    "                                 max_depth=1, random_state=0).fit(x_train, y_train)\n",
    "print('Accuracy of Gradient Boosting Classifier: {:.2f}'.format(clf.score(x_test, y_test)))"
   ]
  },
  {
   "cell_type": "markdown",
   "id": "1c9c20a5",
   "metadata": {},
   "source": [
    "### Extra Trees Classifier (Ensemble Method)"
   ]
  },
  {
   "cell_type": "code",
   "execution_count": 62,
   "id": "22fbce9d",
   "metadata": {},
   "outputs": [
    {
     "name": "stdout",
     "output_type": "stream",
     "text": [
      "Accuracy of Extra Trees Classifier: 0.84\n"
     ]
    }
   ],
   "source": [
    "from sklearn.ensemble import ExtraTreesClassifier\n",
    "\n",
    "clf = ExtraTreesClassifier(n_estimators=10, max_depth=None,\n",
    "                           min_samples_split=2, random_state=0).fit(x_train, y_train)\n",
    "print('Accuracy of Extra Trees Classifier: {:.2f}'.format(clf.score(x_test, y_test)))"
   ]
  },
  {
   "cell_type": "markdown",
   "id": "86d6c6c5",
   "metadata": {},
   "source": [
    "### Ada Boost Classifier (Ensemble Method)"
   ]
  },
  {
   "cell_type": "code",
   "execution_count": 63,
   "id": "8489d03c",
   "metadata": {},
   "outputs": [
    {
     "name": "stdout",
     "output_type": "stream",
     "text": [
      "Accuracy of Extra Trees Classifier: 0.78\n"
     ]
    }
   ],
   "source": [
    "from sklearn.ensemble import AdaBoostClassifier\n",
    "\n",
    "clf = AdaBoostClassifier(n_estimators=100)\n",
    "clf.fit(x_train, y_train)\n",
    "print('Accuracy of Extra Trees Classifier: {:.2f}'.format(clf.score(x_test, y_test)))"
   ]
  }
 ],
 "metadata": {
  "kernelspec": {
   "display_name": "Python 3 (ipykernel)",
   "language": "python",
   "name": "python3"
  },
  "language_info": {
   "codemirror_mode": {
    "name": "ipython",
    "version": 3
   },
   "file_extension": ".py",
   "mimetype": "text/x-python",
   "name": "python",
   "nbconvert_exporter": "python",
   "pygments_lexer": "ipython3",
   "version": "3.9.7"
  }
 },
 "nbformat": 4,
 "nbformat_minor": 5
}
